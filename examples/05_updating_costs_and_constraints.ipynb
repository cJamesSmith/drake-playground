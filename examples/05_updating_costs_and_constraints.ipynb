{
 "cells": [
  {
   "cell_type": "code",
   "execution_count": 4,
   "metadata": {},
   "outputs": [],
   "source": [
    "import pydrake"
   ]
  },
  {
   "attachments": {},
   "cell_type": "markdown",
   "metadata": {},
   "source": [
    "# 更新约束条件 / 代价函数\n",
    "\n",
    "通常情况下, 在解决优化问题后, 我们希望稍微调整其约束条件和代价函数, 然后解决新的问题. 比如在模型预测控制中, 在每个时间实例中, 我们解决一个新的优化问题, 其约束/成本与前一时间实例中的略有不同. 我们可以更新旧 `MathematicalProgram` 对象中的约束条件 / 代价函数, 然后解决新的问题, 而不是构造新的 `MathematicalProgram` 对象. "
   ]
  },
  {
   "attachments": {},
   "cell_type": "markdown",
   "metadata": {},
   "source": [
    "## 更新线性代价函数\n",
    "\n",
    "对于线性代价函数 $a^Tx + b$, 我们可以调用 [`LinearCost.UpdateCoefficients()`](https://drake.mit.edu/pydrake/pydrake.solvers.html#pydrake.solvers.LinearCost.UpdateCoefficients) 来更新系数 `a` 和偏置 `b`"
   ]
  },
  {
   "cell_type": "code",
   "execution_count": 5,
   "metadata": {},
   "outputs": [
    {
     "name": "stdout",
     "output_type": "stream",
     "text": [
      "original cost: LinearCost (2 + 2 * x(0) + 3 * x(1))\n",
      "optimal solution: [-1. -1.]\n",
      "original optimal cost: -3.0\n",
      "updated cost: LinearCost (5 + 3 * x(0) - 4 * x(1))\n",
      "updated optimal solution: [-1.  1.]\n",
      "updated optimal cost: -2.0\n"
     ]
    }
   ],
   "source": [
    "from pydrake.solvers import MathematicalProgram, Solve\n",
    "import numpy as np\n",
    "\n",
    "prog = MathematicalProgram()\n",
    "x = prog.NewContinuousVariables(2)\n",
    "cost1 = prog.AddLinearCost(2 * x[0] + 3 * x[1] + 2)\n",
    "print(f\"original cost: {cost1}\")\n",
    "prog.AddBoundingBoxConstraint(-1, 1, x)\n",
    "result = Solve(prog)\n",
    "print(f\"optimal solution: {result.GetSolution(x)}\")\n",
    "print(f\"original optimal cost: {result.get_optimal_cost()}\")\n",
    "\n",
    "# New cost: 3x[0] - 4x[1] + 5\n",
    "cost1.evaluator().UpdateCoefficients(new_a=[3, -4], new_b=5)\n",
    "print(f\"updated cost: {cost1}\")\n",
    "# Solve the optimization problem again with the updated cost.\n",
    "result = Solve(prog)\n",
    "print(f\"updated optimal solution: {result.GetSolution(x)}\")\n",
    "print(f\"updated optimal cost: {result.get_optimal_cost()}\")"
   ]
  },
  {
   "attachments": {},
   "cell_type": "markdown",
   "metadata": {},
   "source": [
    "## 更新二次型代价函数\n",
    "\n",
    "形如 $\\frac{1}{2}x^TQx + b'x + c$ 的代价函数, 我们可以调用 [`QuadraticCost.UpdateCoefficients`](https://drake.mit.edu/pydrake/pydrake.solvers.html#pydrake.solvers.QuadraticCost.UpdateCoefficients) 更新 $Q, b, c$ "
   ]
  },
  {
   "cell_type": "code",
   "execution_count": 6,
   "metadata": {},
   "outputs": [
    {
     "name": "stdout",
     "output_type": "stream",
     "text": [
      " original cost: QuadraticCost (5 + 3 * x(0) + (x(0) * (x(0) + 0.5 * x(1))) + (x(1) * (0.5 * x(0) + 2 * x(1))))\n",
      " updated cost: QuadraticCost (4 + x(0) + 2 * x(1) + (x(0) * (0.5 * x(0) + x(1))) + (x(1) * (x(0) + 2 * x(1))))\n"
     ]
    }
   ],
   "source": [
    "prog = MathematicalProgram()\n",
    "x = prog.NewContinuousVariables(2)\n",
    "cost1 = prog.AddQuadraticCost(x[0]**2 + 2 * x[1]**2 + x[0]*x[1] + 3*x[0] + 5)\n",
    "print(f\" original cost: {cost1}\")\n",
    "cost1.evaluator().UpdateCoefficients(new_Q=[[1., 2], [2., 4]], new_b=[1, 2.], new_c= 4)\n",
    "print(f\" updated cost: {cost1}\")"
   ]
  },
  {
   "attachments": {},
   "cell_type": "markdown",
   "metadata": {},
   "source": [
    "## 更新边界条件\n",
    "\n",
    "形如 $lower \\le f(x) \\le upper$ 的边界条件, 可以调用\n",
    "\n",
    "- [`Constraint.UpdateLowerBound(new_lb)`](https://drake.mit.edu/pydrake/pydrake.solvers.html#pydrake.solvers.LinearConstraint.UpdateLowerBound) 更新下界 `new_lb`.\n",
    "- [`Constraint.UpdateUpperBound(new_ub)`](https://drake.mit.edu/pydrake/pydrake.solvers.html#pydrake.solvers.LinearConstraint.UpdateUpperBound) 更新上界 `new_ub`.\n",
    "- [`Constraint.set_bounds(new_lb, new_ub)`](https://drake.mit.edu/pydrake/pydrake.solvers.html#pydrake.solvers.LinearConstraint.set_bounds) 同时更新上下界"
   ]
  },
  {
   "cell_type": "code",
   "execution_count": 7,
   "metadata": {},
   "outputs": [
    {
     "name": "stdout",
     "output_type": "stream",
     "text": [
      "original constraint: LinearConstraint\n",
      "-inf <= (x(0) + 3 * x(1)) <= 2\n",
      "\n",
      "updated constraint: LinearConstraint\n",
      "-1 <= (x(0) + 3 * x(1)) <= 2\n",
      "\n",
      "updated constraint: LinearConstraint\n",
      "-1 <= (x(0) + 3 * x(1)) <= 3\n",
      "\n",
      "updated constraint: LinearConstraint\n",
      "-5 <= (x(0) + 3 * x(1)) <= 10\n",
      "\n"
     ]
    }
   ],
   "source": [
    "prog = MathematicalProgram()\n",
    "x = prog.NewContinuousVariables(2)\n",
    "constraint1 = prog.AddLinearConstraint(x[0] + 3 * x[1] <= 2)\n",
    "print(f\"original constraint: {constraint1}\")\n",
    "constraint1.evaluator().UpdateLowerBound([-1])\n",
    "print(f\"updated constraint: {constraint1}\")\n",
    "constraint1.evaluator().UpdateUpperBound([3])\n",
    "print(f\"updated constraint: {constraint1}\")\n",
    "constraint1.evaluator().set_bounds(new_lb=[-5], new_ub=[10])\n",
    "print(f\"updated constraint: {constraint1}\")"
   ]
  },
  {
   "attachments": {},
   "cell_type": "markdown",
   "metadata": {},
   "source": [
    "## 更新约束条件\n",
    "\n",
    "形如 $lower \\le Ax \\le upper$ 的线性不等式约束, 可以调用 [`LinearConstraint.UpdateCoefficients(new_A, new_lb, new_ub)`](https://drake.mit.edu/pydrake/pydrake.solvers.html#pydrake.solvers.LinearConstraint.UpdateCoefficients) \n",
    "\n",
    "形如 $Ax = b$ 的线性等式约束, 可以调用 [`LinearEqualityConstraint.UpdateCoefficients(Aeq, beq)`](https://drake.mit.edu/pydrake/pydrake.solvers.html#pydrake.solvers.LinearEqualityConstraint.UpdateCoefficients) "
   ]
  },
  {
   "cell_type": "code",
   "execution_count": 8,
   "metadata": {},
   "outputs": [
    {
     "name": "stdout",
     "output_type": "stream",
     "text": [
      "original linear constraint: LinearConstraint\n",
      "-inf <= (3 * x(0) + 4 * x(1)) <= 5\n",
      "\n",
      "updated linear constraint: LinearConstraint\n",
      "-2 <= (x(0) + 3 * x(1)) <= 3\n",
      "\n",
      "original linear equality constraint: LinearEqualityConstraint\n",
      "(5 * x(0) + 2 * x(1)) == 3\n",
      "\n",
      "updated linear equality constraint: LinearEqualityConstraint\n",
      "(3 * x(0) + 4 * x(1)) == 2\n",
      "\n"
     ]
    }
   ],
   "source": [
    "prog = MathematicalProgram()\n",
    "x = prog.NewContinuousVariables(2)\n",
    "linear_constraint = prog.AddLinearConstraint(3 * x[0] + 4 * x[1] <= 5)\n",
    "linear_eq_constraint = prog.AddLinearConstraint(5 * x[0] + 2 * x[1] == 3)\n",
    "print(f\"original linear constraint: {linear_constraint}\")\n",
    "linear_constraint.evaluator().UpdateCoefficients(new_A = [[1, 3]], new_lb=[-2], new_ub=[3])\n",
    "print(f\"updated linear constraint: {linear_constraint}\")\n",
    "\n",
    "print(f\"original linear equality constraint: {linear_eq_constraint}\")\n",
    "linear_eq_constraint.evaluator().UpdateCoefficients(Aeq=[[3, 4]], beq=[2])\n",
    "print(f\"updated linear equality constraint: {linear_eq_constraint}\")"
   ]
  }
 ],
 "metadata": {
  "kernelspec": {
   "display_name": "robot",
   "language": "python",
   "name": "python3"
  },
  "language_info": {
   "codemirror_mode": {
    "name": "ipython",
    "version": 3
   },
   "file_extension": ".py",
   "mimetype": "text/x-python",
   "name": "python",
   "nbconvert_exporter": "python",
   "pygments_lexer": "ipython3",
   "version": "3.8.10"
  },
  "orig_nbformat": 4,
  "vscode": {
   "interpreter": {
    "hash": "163ba63cc8e6fa59655f510cd44ac1cc94d5f983d47df3b2a3d400a8e02e0b0b"
   }
  }
 },
 "nbformat": 4,
 "nbformat_minor": 2
}
