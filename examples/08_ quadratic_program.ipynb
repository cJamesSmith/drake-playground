{
 "cells": [
  {
   "cell_type": "code",
   "execution_count": 1,
   "metadata": {},
   "outputs": [],
   "source": [
    "import pydrake"
   ]
  },
  {
   "attachments": {},
   "cell_type": "markdown",
   "metadata": {},
   "source": [
    "# 二次规划\n",
    "\n",
    "$$\n",
    "\\begin{aligned}\n",
    "    \\min_x \\quad & 0.5 x^TQx + b^Tx + c\\\\\n",
    "    \\text{s.t.} \\quad & Ex \\leq f\n",
    "\\end{aligned}\n",
    "$$\n",
    "\n",
    "其中 $Q$ 半正定。drake 支持一些二次规划的求解器，包括 OSQP, SCS, Gurobi, MOSEK™ 等，请参阅 [Doxygen 文档]( https://drake.mit.edu/doxygen_cxx/group__solvers.html) 查看完整列表。注意，一些商业解决方案（如 Gurobi 和 MOSEK™) 未包含在预编译的 drake 二进制文件中. 关于求解优化问题相关的所有函数，请参考 [Doxygen 文档](https://drake.mit.edu/doxygen_cxx/classdrake_1_1solvers_1_1_mathematical_program.html)。\n",
    "\n",
    "QP 问题有很多应用，比如 [DifferentialInverseKinematics](https://drake.mit.edu/doxygen_cxx/namespacedrake_1_1manipulation_1_1planner.html#)"
   ]
  },
  {
   "attachments": {},
   "cell_type": "markdown",
   "metadata": {},
   "source": [
    "## 二次代价函数"
   ]
  },
  {
   "cell_type": "code",
   "execution_count": 4,
   "metadata": {},
   "outputs": [
    {
     "name": "stdout",
     "output_type": "stream",
     "text": [
      "QuadraticCost (4 + 3 * x(0) + (x(0) * (x(0) + x(1))) + (x(1) * (x(0) + x(1))))\n",
      "QuadraticCost (4 + 3 * x(0) + (x(0) * (x(0) + x(1))) + (x(1) * (x(0) + x(1))))\n",
      "The number of quadratic costs in prog: 2\n",
      "cost 3 is QuadraticCost (1 + 2 * x(0) + 4 * x(1) + (x(0) * (x(0) + 0.5 * x(1))) + (x(1) * (0.5 * x(0) + 1.5 * x(1))))\n"
     ]
    }
   ],
   "source": [
    "from pydrake.solvers import MathematicalProgram, Solve\n",
    "import numpy as np\n",
    "\n",
    "prog = MathematicalProgram()\n",
    "x = prog.NewContinuousVariables(2, \"x\")\n",
    "\n",
    "# quadratic cost 1\n",
    "cost1 = prog.AddQuadraticCost(x[0]**2 + 2*x[0]*x[1] + x[1]**2 + 3*x[0] + 4)\n",
    "print(cost1)\n",
    "print(prog.quadratic_costs()[0])\n",
    "\n",
    "# quadratic cost 2\n",
    "cost2 = prog.AddQuadraticCost(x[1]*x[1] + 3)\n",
    "print(f\"The number of quadratic costs in prog: {len(prog.quadratic_costs())}\")\n",
    "\n",
    "# quadratic cost 3: x[0]*x[0] + x[0]*x[1] + 1.5*x[1]*x[1] + 2*x[0] + 4*x[1] + 1\n",
    "cost3 = prog.AddQuadraticCost(Q=[[2, 1], [1, 3]], b=[2, 4], c=1, vars=x)\n",
    "print(f\"cost 3 is {cost3}\")"
   ]
  },
  {
   "attachments": {},
   "cell_type": "markdown",
   "metadata": {},
   "source": [
    "### `AddQuadraticErrorCost`\n",
    "\n",
    "$$\n",
    "(x - x_{desired})^TQ(x-x_{desired})\n",
    "$$"
   ]
  },
  {
   "cell_type": "code",
   "execution_count": 5,
   "metadata": {},
   "outputs": [
    {
     "name": "stdout",
     "output_type": "stream",
     "text": [
      "cost4 is QuadraticCost (33 - 10 * x(0) - 28 * x(1) + (x(0) * (x(0) + 2 * x(1))) + (x(1) * (2 * x(0) + 6 * x(1))))\n"
     ]
    }
   ],
   "source": [
    "# Adds the cost (x - [1;2])' * Q * (x-[1;2])\n",
    "cost4 = prog.AddQuadraticErrorCost(Q=[[1, 2],[2, 6]], x_desired=[1,2], vars=x)\n",
    "print(f\"cost4 is {cost4}\")"
   ]
  },
  {
   "attachments": {},
   "cell_type": "markdown",
   "metadata": {},
   "source": [
    "### `Add2NormSquaredCost`\n",
    "\n",
    "$$\n",
    "|Ax-b|^2\n",
    "$$"
   ]
  },
  {
   "cell_type": "code",
   "execution_count": 6,
   "metadata": {},
   "outputs": [
    {
     "name": "stdout",
     "output_type": "stream",
     "text": [
      "cost5 is QuadraticCost (13 - 4 * x(0) - 14 * x(1) + (x(0) * (x(0) + 2 * x(1))) + (x(1) * (2 * x(0) + 5 * x(1))))\n"
     ]
    }
   ],
   "source": [
    "# Adds the squared norm of (x[0]+2*x[1]-2, x[1] - 3) to the program cost.\n",
    "cost5 = prog.Add2NormSquaredCost(A=[[1, 2], [0, 1]], b=[2, 3], vars=x)\n",
    "print(f\"cost5 is {cost5}\")"
   ]
  },
  {
   "attachments": {},
   "cell_type": "markdown",
   "metadata": {},
   "source": [
    "## 代价函数是否为凸函数\n",
    "\n",
    "drake 会计算每个代价函数的 Hessian 矩阵是否为正半定，来检查每是否为凸。drake 支持的凸求解器有 Gurobi / MOSEK™ / OSQP / CLP / SCS 等。但是检查代价函数是否为凸会占用一定的计算资源，如果应用程序要求尽可能快地解决 QP 问题，那么绕过凸检查能大大加快求解速度，因此如果知道代价函数的凸性时，可以在 `AddQuadraticCost` 函数中设置 `is_convex` 标志."
   ]
  },
  {
   "cell_type": "code",
   "execution_count": 8,
   "metadata": {},
   "outputs": [
    {
     "name": "stdout",
     "output_type": "stream",
     "text": [
      "Is the cost QuadraticCost (2 * x(0) + (x(0) * (x(0) + 0.5 * x(1))) + (x(1) * (0.5 * x(0) + 3 * x(1)))) convex? True\n",
      "Is the cost QuadraticCost ((x(0) * (x(0) + 2 * x(1))) + (x(1) * (2 * x(0) + 3 * x(1)))) convex? True\n",
      "Is the cost QuadraticCost ((x(0) * (x(0) + 1.5 * x(1))) + (x(1) * (1.5 * x(0) + 4 * x(1)))) convex? True\n"
     ]
    }
   ],
   "source": [
    "cost7 = prog.AddQuadraticCost(x[0]**2 + 3 * x[1]**2 + x[0] * x[1] + 2 * x[0])\n",
    "print(f\"Is the cost {cost7} convex? {cost7.evaluator().is_convex()}\")\n",
    "cost8 = prog.AddQuadraticCost(x[0]**2 + 3 * x[1]**2 + 4*x[0]*x[1])  # 如果指定 is_convex=True，那么即便不是凸函数也会认定为凸函数\n",
    "print(f\"Is the cost {cost8} convex? {cost8.evaluator().is_convex()}\")\n",
    "\n",
    "cost9 = prog.AddQuadraticCost(x[0]**2 + 4 * x[1]**2 + 3 * x[0]*x[1], is_convex=True)\n",
    "print(f\"Is the cost {cost9} convex? {cost9.evaluator().is_convex()}\")"
   ]
  },
  {
   "attachments": {},
   "cell_type": "markdown",
   "metadata": {},
   "source": [
    "## 求解算例"
   ]
  },
  {
   "cell_type": "code",
   "execution_count": 9,
   "metadata": {},
   "outputs": [
    {
     "name": "stdout",
     "output_type": "stream",
     "text": [
      "optimal solution x: [-3.90017281e-15  2.50000000e+00 -3.40000000e-01]\n",
      "optimal cost: 3.3600000000000136\n"
     ]
    }
   ],
   "source": [
    "prog = MathematicalProgram()\n",
    "x = prog.NewContinuousVariables(3, \"x\")\n",
    "prog.AddQuadraticCost(x[0] * x[0] + 2 * x[0] + 3)\n",
    "# Adds the quadratic cost on the squared norm of the vector\n",
    "# (x[1] + 3*x[2] - 1, 2*x[1] + 4*x[2] -4)\n",
    "prog.Add2NormSquaredCost(A = [[1, 3], [2, 4]], b=[1, 4], vars=[x[1], x[2]])\n",
    "\n",
    "# Adds the linear constraints.\n",
    "prog.AddLinearEqualityConstraint(x[0] + 2*x[1] == 5)\n",
    "prog.AddLinearConstraint(x[0] + 4 *x[1] <= 10)\n",
    "# Sets the bounds for each variable to be within [-1, 10]\n",
    "prog.AddBoundingBoxConstraint(-1, 10, x)\n",
    "\n",
    "# Solve the program.\n",
    "result = Solve(prog)\n",
    "print(f\"optimal solution x: {result.GetSolution(x)}\")\n",
    "print(f\"optimal cost: {result.get_optimal_cost()}\")"
   ]
  },
  {
   "cell_type": "code",
   "execution_count": null,
   "metadata": {},
   "outputs": [],
   "source": []
  }
 ],
 "metadata": {
  "kernelspec": {
   "display_name": "robot",
   "language": "python",
   "name": "python3"
  },
  "language_info": {
   "codemirror_mode": {
    "name": "ipython",
    "version": 3
   },
   "file_extension": ".py",
   "mimetype": "text/x-python",
   "name": "python",
   "nbconvert_exporter": "python",
   "pygments_lexer": "ipython3",
   "version": "3.8.10"
  },
  "orig_nbformat": 4,
  "vscode": {
   "interpreter": {
    "hash": "163ba63cc8e6fa59655f510cd44ac1cc94d5f983d47df3b2a3d400a8e02e0b0b"
   }
  }
 },
 "nbformat": 4,
 "nbformat_minor": 2
}
