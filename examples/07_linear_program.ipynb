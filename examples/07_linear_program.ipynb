{
 "cells": [
  {
   "cell_type": "code",
   "execution_count": 1,
   "metadata": {},
   "outputs": [],
   "source": [
    "import pydrake"
   ]
  },
  {
   "attachments": {},
   "cell_type": "markdown",
   "metadata": {},
   "source": [
    "# 线性规划\n",
    "\n",
    "$$\n",
    "\\begin{aligned} \n",
    "    \\min_x \\;c^Tx + d\\\\ \n",
    "    \\text{subject to } Ax\\leq b \n",
    "\\end{aligned}\n",
    "$$\n",
    "\n",
    "drake 支持一些线性规划的求解器，包括 SCS、Gurobi、MOSEK™ 等，请参阅 [Doxygen 文档]( https://drake.mit.edu/doxygen_cxx/group__solvers.html) 查看完整列表。注意，一些商业解决方案（如 Gurobi 和 MOSEK™) 未包含在预编译的 drake 二进制文件中. 关于求解优化问题相关的所有函数，请参考 [Doxygen 文档](https://drake.mit.edu/doxygen_cxx/classdrake_1_1solvers_1_1_mathematical_program.html)。"
   ]
  },
  {
   "attachments": {},
   "cell_type": "markdown",
   "metadata": {},
   "source": [
    "## 线性代价函数"
   ]
  },
  {
   "cell_type": "code",
   "execution_count": 2,
   "metadata": {},
   "outputs": [
    {
     "name": "stdout",
     "output_type": "stream",
     "text": [
      "cost1: LinearCost (2 + x(0) + 3 * x(1))\n",
      "LinearCost (2 + x(0) + 3 * x(1))\n",
      "number of linear cost objects: 2\n",
      "cost3: LinearCost (5 + 3 * x(0) + 4 * x(1))\n",
      "number of linear cost objects before calling AddCost: 3\n",
      "number of linear cost objects after calling AddCost: 4\n"
     ]
    }
   ],
   "source": [
    "from pydrake.solvers import MathematicalProgram, Solve\n",
    "import numpy as np\n",
    "\n",
    "prog = MathematicalProgram()\n",
    "x = prog.NewContinuousVariables(2, 'x')\n",
    "\n",
    "# Linear cost 1\n",
    "cost1 = prog.AddLinearCost(x[0] + 3 * x[1] + 2)\n",
    "print(f\"cost1: {cost1}\")\n",
    "print(prog.linear_costs()[0])\n",
    "\n",
    "# Linear cost 2\n",
    "cost2 = prog.AddLinearCost(2 * x[1] + 3)\n",
    "print(f\"number of linear cost objects: {len(prog.linear_costs())}\")\n",
    "\n",
    "# Linear cost 3 by coefficient\n",
    "cost3 = prog.AddLinearCost([3, 4], 5, x)  # 3 * x[0] + 4 * x[1] + 5\n",
    "print(f\"cost3: {cost3}\")\n",
    "\n",
    "# Linear cost 4 by AddCost. drake will analyze the structure of the expression, determine whether the expression is linear\n",
    "print(f\"number of linear cost objects before calling AddCost: {len(prog.linear_costs())}\")\n",
    "cost4 = prog.AddCost(x[0] + 3 * x[1] + 5)\n",
    "print(f\"number of linear cost objects after calling AddCost: {len(prog.linear_costs())}\")"
   ]
  },
  {
   "attachments": {},
   "cell_type": "markdown",
   "metadata": {},
   "source": [
    "## 线性约束条件\n",
    "\n",
    "有三种：\n",
    "\n",
    "* $ lower \\le x \\le upper $.\n",
    "* $Ax = b$.\n",
    "* $lower \\le Ax \\le upper$."
   ]
  },
  {
   "cell_type": "code",
   "execution_count": 7,
   "metadata": {},
   "outputs": [
    {
     "name": "stdout",
     "output_type": "stream",
     "text": [
      "number of bounding box constraint objects: 1\n",
      "number of bounding box constraint objects: 2\n",
      "number of linear equality constraint objects: 1\n",
      "number of linear equality constraint objects: 2\n",
      "number of linear inequality constraint objects: 1\n",
      "number of linear inequality constraint objects: 2\n",
      "('Formula (pow(x(0), 2) == 2) is non-linear.',)\n",
      "LinearConstraint\n",
      "-inf <= (2 * x(0) + 3 * x(1)) <= 2\n",
      "1 <= (4 * x(1) + 5 * y(2)) <= 3\n",
      "\n"
     ]
    }
   ],
   "source": [
    "prog = MathematicalProgram()\n",
    "x = prog.NewContinuousVariables(2, \"x\")\n",
    "y = prog.NewContinuousVariables(3, \"y\")\n",
    "\n",
    "bounding_box1 = prog.AddConstraint(x[0] >= 1)\n",
    "print(\n",
    "    f\"number of bounding box constraint objects: {len(prog.bounding_box_constraints())}\"\n",
    ")\n",
    "\n",
    "bounding_box2 = prog.AddLinearConstraint(x[1] <= 2)\n",
    "print(\n",
    "    f\"number of bounding box constraint objects: {len(prog.bounding_box_constraints())}\"\n",
    ")\n",
    "\n",
    "linear_eq1 = prog.AddConstraint(x[0] + y[1] == 3.0)\n",
    "print(\n",
    "    f\"number of linear equality constraint objects: {len(prog.linear_equality_constraints())}\"\n",
    ")\n",
    "\n",
    "linear_eq2 = prog.AddLinearConstraint(x[1] + 2 * y[2] == 1)\n",
    "print(\n",
    "    f\"number of linear equality constraint objects: {len(prog.linear_equality_constraints())}\"\n",
    ")\n",
    "\n",
    "linear_ineq1 = prog.AddConstraint(x[0] + 3 * x[1] + 2 * y[2] <= 4)\n",
    "print(\n",
    "    f\"number of linear inequality constraint objects: {len(prog.linear_constraints())}\"\n",
    ")\n",
    "\n",
    "linear_ineq2 = prog.AddLinearConstraint(x[1] + 4 * y[1] >= 2)\n",
    "print(\n",
    "    f\"number of linear inequality constraint objects: {len(prog.linear_constraints())}\"\n",
    ")\n",
    "\n",
    "try:\n",
    "    prog.AddLinearConstraint(x[0] ** 2 == 2)\n",
    "except RuntimeError as err:\n",
    "    print(err.args)\n",
    "\n",
    "# more efficient for \"lower ≤ Ax ≤ upper\", e.g.\n",
    "# Add a linear constraint 2x[0] + 3x[1] <= 2, 1 <= 4x[1] + 5y[2] <= 3.\n",
    "# This is equivalent to lower <= A * [x;y[2]] <= upper with\n",
    "# lower = [-inf, 1], upper = [2, 3], A = [[2, 3, 0], [0, 4, 5]].\n",
    "linear_constraint = prog.AddLinearConstraint(\n",
    "    A=[[2.0, 3.0, 0], [0.0, 4.0, 5.0]],\n",
    "    lb=[-np.inf, 1],\n",
    "    ub=[2.0, 3.0],\n",
    "    vars=np.hstack((x, y[2])),\n",
    ")\n",
    "print(linear_constraint)\n",
    "\n",
    "# Add a bounding box constraint -1 <= x[0] <= 2, 3 <= x[1] <= 5\n",
    "bounding_box3 = prog.AddBoundingBoxConstraint([-1, 3], [2, 5], x)\n",
    "print(bounding_box3)\n",
    "\n",
    "# Add a bounding box constraint 3 <= y[i] <= 5 for all i.\n",
    "bounding_box4 = prog.AddBoundingBoxConstraint(3, 5, y)\n",
    "print(bounding_box4)\n",
    "\n",
    "# Add a linear equality constraint 4 * x[0] + 5 * x[1] == 1，比 AddConstraint 和 AddLinearConstraint 更准确，更快\n",
    "linear_eq3 = prog.AddLinearEqualityConstraint(np.array([[4, 5]]), np.array([1]), x)\n",
    "print(linear_eq3)"
   ]
  },
  {
   "attachments": {},
   "cell_type": "markdown",
   "metadata": {},
   "source": [
    "## 求解算例\n",
    "\n",
    "$$\n",
    "\\begin{aligned} \n",
    "    \\min_x \\;& -3x[0] - x[1] - 5x[2] -x[3] + 2\\\\ \n",
    "    \\text{subject to} \\;& 3x[0] + x[1] + 2x[2] = 30 \\\\\n",
    "    & 2x[0] + x[1] + 3x[2] + x[3] >= 15 \\\\\n",
    "    & 2x[1] + 3x[3] <= 25 \\\\\n",
    "    & -100 <= x[0] + 2x[2] <= 40 \\\\\n",
    "    & x[0], x[1], x[2], x[3] >= 0, x[1] <= 10 \\\\\n",
    "\\end{aligned}\n",
    "$$"
   ]
  },
  {
   "cell_type": "code",
   "execution_count": 15,
   "metadata": {},
   "outputs": [
    {
     "name": "stdout",
     "output_type": "stream",
     "text": [
      "Is solved successfully: True\n",
      "x optimal value: [ 0.          0.         15.          8.33333333]\n",
      "optimal cost: -81.33333333333333\n"
     ]
    }
   ],
   "source": [
    "prog = MathematicalProgram()\n",
    "\n",
    "x = prog.NewContinuousVariables(4)\n",
    "\n",
    "prog.AddLinearCost(-3 * x[0] - x[1] - 5 * x[2] - x[3] + 2)\n",
    "\n",
    "prog.AddLinearEqualityConstraint([[3, 1, 2, 0]], [30], x)\n",
    "prog.AddLinearConstraint(\n",
    "    A=[[2, 1, 3, 1], [0, 2, 0, 3], [1, 0, 2, 0]],\n",
    "    lb=[15, -np.inf, -100],\n",
    "    ub=[np.inf, 25, 40],\n",
    "    vars=x,\n",
    ")\n",
    "prog.AddBoundingBoxConstraint([0, 0, 0, 0], [np.Inf, 10, np.Inf, np.Inf], x)\n",
    "\n",
    "result = Solve(prog)\n",
    "print(f\"Is solved successfully: {result.is_success()}\")\n",
    "print(f\"x optimal value: {result.GetSolution(x)}\")\n",
    "print(f\"optimal cost: {result.get_optimal_cost()}\")\n"
   ]
  }
 ],
 "metadata": {
  "kernelspec": {
   "display_name": "robot",
   "language": "python",
   "name": "python3"
  },
  "language_info": {
   "codemirror_mode": {
    "name": "ipython",
    "version": 3
   },
   "file_extension": ".py",
   "mimetype": "text/x-python",
   "name": "python",
   "nbconvert_exporter": "python",
   "pygments_lexer": "ipython3",
   "version": "3.8.10"
  },
  "orig_nbformat": 4,
  "vscode": {
   "interpreter": {
    "hash": "163ba63cc8e6fa59655f510cd44ac1cc94d5f983d47df3b2a3d400a8e02e0b0b"
   }
  }
 },
 "nbformat": 4,
 "nbformat_minor": 2
}
