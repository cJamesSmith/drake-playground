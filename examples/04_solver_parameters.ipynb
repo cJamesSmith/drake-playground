{
 "cells": [
  {
   "cell_type": "code",
   "execution_count": null,
   "metadata": {},
   "outputs": [],
   "source": [
    "import pydrake"
   ]
  },
  {
   "attachments": {},
   "cell_type": "markdown",
   "metadata": {},
   "source": [
    "设置求解器的参数有两种方法: 调用 `MathematicalProgram::SetSolverOption` 方法, 或者给 `Solve()` 方法传参"
   ]
  },
  {
   "attachments": {},
   "cell_type": "markdown",
   "metadata": {},
   "source": [
    "# 调用 `MathematicalProgram::SetSolverOption` 方法\n",
    "\n",
    "通过调用 `MathematicalProgram::SetSolverOption(solver_id, option_name, option_value)`, 可以为特定的 `solver_id` 求解器设置参数, `option_name` 和求解器有关, 例如 IPOPT 参数列表. `MathematicalProgram` 对象存储该求解器参数, 调用求解器是, 则此参数将应用于 `Solve()` 方法的调用中. 下面的例子展示了设置 IPOPT 参数"
   ]
  },
  {
   "cell_type": "code",
   "execution_count": null,
   "metadata": {},
   "outputs": [],
   "source": [
    "from pydrake.solvers import MathematicalProgram, Solve, SolverOptions, IpoptSolver\n",
    "import numpy as np\n",
    "\n",
    "prog = MathematicalProgram()\n",
    "x = prog.NewContinuousVariables(2)\n",
    "prog.AddCost(x[0]**2 + x[1] ** 2)\n",
    "prog.AddConstraint(x[0] + x[1] == 1)\n",
    "\n",
    "# Set the maximum iteration for IPOPT to be 1.\n",
    "# max_iter is a parameter of IPOPT solver, explained in\n",
    "# https://coin-or.github.io/Ipopt/OPTIONS.html\n",
    "prog.SetSolverOption(IpoptSolver().solver_id(), \"max_iter\", 1)\n",
    "solver = IpoptSolver()\n",
    "result = solver.Solve(prog, np.array([10, 1]), None)\n",
    "# With fewer maximum iteration, IPOPT hasn't converged to optimality yet (The true optimal is [0.5, 0.5])\n",
    "print(\"Success? \", result.is_success())\n",
    "print(result.get_solution_result())\n",
    "print(\"IPOPT x*= \", result.GetSolution(x))"
   ]
  },
  {
   "attachments": {},
   "cell_type": "markdown",
   "metadata": {},
   "source": [
    "值得注意的是, 设置求解器的参数并不意味着 deake 会调用该求解器. 和之前说的一样, Drake决定调用其认为最合适的求解器. 比如, 尽管我们为 IPOPT 设置了参数, Drake 选择了另一个解算器(它可以求这个特定问题的解析解). "
   ]
  },
  {
   "cell_type": "code",
   "execution_count": null,
   "metadata": {},
   "outputs": [],
   "source": [
    "prog.SetSolverOption(IpoptSolver().solver_id(), \"max_iter\", 1)\n",
    "result = Solve(prog)\n",
    "print(result.get_solver_id().name())"
   ]
  },
  {
   "attachments": {},
   "cell_type": "markdown",
   "metadata": {},
   "source": [
    "# 通过传参的方式"
   ]
  },
  {
   "cell_type": "code",
   "execution_count": null,
   "metadata": {},
   "outputs": [],
   "source": [
    "prog = MathematicalProgram()\n",
    "x = prog.NewContinuousVariables(2)\n",
    "prog.AddCost(x[0]**2 + x[1] ** 2)\n",
    "prog.AddConstraint(x[0] + x[1] == 1)\n",
    "\n",
    "solver_options = SolverOptions()\n",
    "solver_options.SetOption(IpoptSolver().solver_id(), \"max_iter\", 1)\n",
    "solver = IpoptSolver()\n",
    "\n",
    "# Call Solve with solver_options, IPOPT will use `max_iter` = 1\n",
    "result = solver.Solve(prog, np.array([10, 1]), solver_options)\n",
    "print(\"Success? \", result.is_success())\n",
    "print(result.get_solution_result())\n",
    "# Call Solve without solver_options, IPOPT will use the default options.\n",
    "result = solver.Solve(prog, np.array([10, 1]), None)\n",
    "print(\"Success? \", result.is_success())\n",
    "print(result.get_solution_result())"
   ]
  },
  {
   "cell_type": "code",
   "execution_count": null,
   "metadata": {},
   "outputs": [],
   "source": []
  }
 ],
 "metadata": {
  "kernelspec": {
   "display_name": "robot",
   "language": "python",
   "name": "python3"
  },
  "language_info": {
   "codemirror_mode": {
    "name": "ipython",
    "version": 3
   },
   "file_extension": ".py",
   "mimetype": "text/x-python",
   "name": "python",
   "nbconvert_exporter": "python",
   "pygments_lexer": "ipython3",
   "version": "3.8.10"
  },
  "orig_nbformat": 4,
  "vscode": {
   "interpreter": {
    "hash": "163ba63cc8e6fa59655f510cd44ac1cc94d5f983d47df3b2a3d400a8e02e0b0b"
   }
  }
 },
 "nbformat": 4,
 "nbformat_minor": 2
}
