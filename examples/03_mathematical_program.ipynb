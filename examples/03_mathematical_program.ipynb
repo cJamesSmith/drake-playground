{
 "cells": [
  {
   "cell_type": "code",
   "execution_count": null,
   "metadata": {},
   "outputs": [],
   "source": [
    "import pydrake"
   ]
  },
  {
   "attachments": {},
   "cell_type": "markdown",
   "metadata": {},
   "source": [
    "# 背景\n",
    "\n",
    "许多工程问题可以表述为数学优化问题, 一般的数学优化问题可以表示为\n",
    "\n",
    "$$\n",
    "\\begin{aligned}\n",
    "\\begin{array}{rl}\n",
    "    \\min_x             \\;   &  f(x) \\\\\n",
    "    \\text{subject to}  \\;   &  x \\in\\mathcal{S}\n",
    "\\end{array}\n",
    "\\qquad\n",
    "\\boxed{\n",
    "    \\begin{array}{ll}\n",
    "        \\text{The real-valued decision variable is}                         &x\\\\\n",
    "        \\text{The real-valued cost function is}                             &f(x)\\\\\n",
    "        \\text{The constraint set is}                                        &\\mathcal{S}\\\\\n",
    "        \\text{The optimal } x \\text{ that minimizes the cost function is}   &x^*\n",
    "    \\end{array}\n",
    "}\n",
    "\\end{aligned}\n",
    "$$\n",
    "\n",
    "比如下面这个优化问题\n",
    "\n",
    "$$\n",
    "\\begin{aligned}\n",
    "\\begin{array}{rl}\n",
    "    \\min_x              \\;  & x^3 + 2x + 1\\\\\n",
    "    \\text{subject to}\\; \\;  & x \\ge 1\n",
    "\\end{array}\n",
    "\\quad\n",
    "\\boxed{\n",
    "    \\begin{array}{ll}\n",
    "        \\text{The real-valued decision variable is}             &  x\\\\\n",
    "        \\text{The real-valued cost function }f(x) \\text{ is}    &  x^3 + 2x + 1\\\\\n",
    "        \\text{The set }\\mathcal{S} \\text{ of constraints is}    &  x \\ge 1\\\\\n",
    "        \\text{The value that minimizes the cost function is}    &  x^* = 1\n",
    "    \\end{array}\n",
    "}\n",
    "\\end{aligned}\n",
    "$$\n",
    "\n",
    "一般来说优化问题有很多分类, 比如线性规划、二次规划、混合整数规划等, 不同种类的优化问题有不同的求解方法. 每类优化问题都有多种求解器, 但每个求解器有自己的 API 和数据结构. 通常, 用户从一个求解器切换到另一个时需要重写代码. 为了解决这个问题, `Drake` 通过 `MathematicalProgram` 类提供了一个公共 API. 除此之外, 约束和成本函数可以用符号变量编写代码. `Drake` 的 `MathematicalProgram` 类似于 MATLAB 中的 [YALMIP](https://yalmip.github.io/) 或 Julia 中的 [JuMP](https://github.com/JuliaOpt/JuMP.jl). `drake` 支持 [多种求解器](https://drake.mit.edu/doxygen_cxx/group__solvers.html), 有的是开源的, 有的需要许可证. `drake` 能求解的优化问题包括: \n",
    "\n",
    "1. 线性规划\n",
    "2. 二次规划\n",
    "3. 二阶锥规划\n",
    "4. 非线性非凸规划\n",
    "5. 半定规划\n",
    "6. 平方和规划\n",
    "7. 混合整数规划(混合整数线性规划、混合整数二次规划、混合整型二次锥规划). \n",
    "8. 线性互补问题\n",
    "\n",
    "这里仅演示基本用法"
   ]
  },
  {
   "attachments": {},
   "cell_type": "markdown",
   "metadata": {},
   "source": [
    "# `MathematicalProgram` 类"
   ]
  },
  {
   "attachments": {},
   "cell_type": "markdown",
   "metadata": {},
   "source": [
    "## 初始化 `MathematicalProgram`"
   ]
  },
  {
   "cell_type": "code",
   "execution_count": null,
   "metadata": {},
   "outputs": [],
   "source": [
    "from pydrake.solvers import MathematicalProgram\n",
    "import numpy as np\n",
    "import matplotlib.pyplot as plt\n",
    "\n",
    "# 创建一个空的 MathematicalProgram 实例: 没有决策变量, 约束和代价函数\n",
    "prog = MathematicalProgram()\n"
   ]
  },
  {
   "attachments": {},
   "cell_type": "markdown",
   "metadata": {},
   "source": [
    "## 创建决策变量"
   ]
  },
  {
   "cell_type": "code",
   "execution_count": null,
   "metadata": {},
   "outputs": [],
   "source": [
    "# 添加决策变量: 添加两个连续的决策变量, x 是一个 numpy 数组. NewBinaryVariables 创建的是 0-1 决策变量\n",
    "x = prog.NewContinuousVariables(2)\n",
    "# 决策变量 x 默认的名字叫 \"x(0)\" 和 \"x(1)\"\n",
    "print(x)\n",
    "print(1 + 2 * x[0] + 3 * x[1] + 4* x[1])"
   ]
  },
  {
   "cell_type": "code",
   "execution_count": null,
   "metadata": {},
   "outputs": [],
   "source": [
    "# 也可以自定义决策变量的名字\n",
    "y = prog.NewContinuousVariables(2, 'dog')\n",
    "print(y)\n",
    "print(y[0] + y[0] + y[1] * y[1] * y[1])"
   ]
  },
  {
   "cell_type": "code",
   "execution_count": null,
   "metadata": {},
   "outputs": [],
   "source": [
    "# 创建一个 3x2 的矩阵, 命名为 A\n",
    "var_matrix = prog.NewContinuousVariables(3, 2, 'A')\n",
    "print(var_matrix)"
   ]
  },
  {
   "attachments": {},
   "cell_type": "markdown",
   "metadata": {},
   "source": [
    "## 添加约束\n",
    "\n",
    "这里仅演示基本用法. drake 会自动判断约束类型"
   ]
  },
  {
   "cell_type": "code",
   "execution_count": null,
   "metadata": {},
   "outputs": [],
   "source": [
    "# 等式约束\n",
    "prog.AddConstraint(x[0] * x[1] == 1)\n",
    "# 不等式约束\n",
    "prog.AddConstraint(x[0] >= 0)\n",
    "prog.AddConstraint(x[0] - x[1] <= 0)"
   ]
  },
  {
   "attachments": {},
   "cell_type": "markdown",
   "metadata": {},
   "source": [
    "## 添加代价函数\n",
    "\n",
    "drake 会自动判断约束的类型"
   ]
  },
  {
   "cell_type": "code",
   "execution_count": null,
   "metadata": {},
   "outputs": [],
   "source": [
    "# 添加代价函数: x[0] ** 2 + x[0] + x[1] + 3. 故意分两次添加\n",
    "prog.AddCost(x[0] ** 2 + 3)  # 二次函数\n",
    "prog.AddCost(x[0] + x[1])  # 线性函数"
   ]
  },
  {
   "attachments": {},
   "cell_type": "markdown",
   "metadata": {},
   "source": [
    "## 优化问题求解\n",
    "\n",
    "drake 会自动判断优化问题的类型并调用最合适的求解器"
   ]
  },
  {
   "cell_type": "code",
   "execution_count": null,
   "metadata": {},
   "outputs": [],
   "source": [
    "\"\"\"\n",
    "min x(0)^2 + x(1)^2\n",
    "s.t. x(0) + x(1) = 1\n",
    "           x(0) <= x(1)\n",
    "\"\"\"\n",
    "from pydrake.solvers import Solve\n",
    "\n",
    "# 构建优化问题\n",
    "prog = MathematicalProgram()\n",
    "x = prog.NewContinuousVariables(2)\n",
    "prog.AddConstraint(x[0] + x[1] == 1)\n",
    "prog.AddConstraint(x[0] <= x[1])\n",
    "prog.AddCost(x[0] ** 2 + x[1] ** 2)\n",
    "\n",
    "# 求解优化问题\n",
    "result = Solve(prog)\n",
    "\n",
    "# 求解结果\n",
    "print(\"Success? \", result.is_success())\n",
    "# 最优解\n",
    "print('x* = ', result.GetSolution(x))\n",
    "# 最有代价\n",
    "print('optimal cost = ', result.get_optimal_cost())\n",
    "# 用的是什么求解器\n",
    "print('solver is: ', result.get_solver_id().name())"
   ]
  },
  {
   "attachments": {},
   "cell_type": "markdown",
   "metadata": {},
   "source": [
    "有时候优化问题没有解"
   ]
  },
  {
   "cell_type": "code",
   "execution_count": null,
   "metadata": {},
   "outputs": [],
   "source": [
    "# 优化问题无解\n",
    "prog = MathematicalProgram()\n",
    "x = prog.NewContinuousVariables(1)[0]\n",
    "y = prog.NewContinuousVariables(1)[0]\n",
    "prog.AddConstraint(x + y >= 1)\n",
    "prog.AddConstraint(x + y <= 0)\n",
    "prog.AddCost(x)\n",
    "\n",
    "result = Solve(prog)\n",
    "print(\"Success? \", result.is_success())\n",
    "print(result.get_solution_result())"
   ]
  },
  {
   "attachments": {},
   "cell_type": "markdown",
   "metadata": {},
   "source": [
    "## 手动选择求解器\n",
    "\n",
    "如果不想 `drake` 自动选择求解器, 我们可以显式地实例化一个求解器, 并调用它的 `Solve` 函数. 有两种方法可以实例化求解器. 例如, 如果我想使用开源求解器 `IPOPT`, 有以下两种方法: \n",
    "\n",
    "1. 最简单的方法: `solver = IpoptSolver()`\n",
    "2. `solver = MakeSolver(IpoptSolver().solver_id())`"
   ]
  },
  {
   "cell_type": "code",
   "execution_count": null,
   "metadata": {},
   "outputs": [],
   "source": [
    "\"\"\"\n",
    "min x(0)\n",
    "s.t x(0) + x(1) = 1\n",
    "    0 <= x(1) <= 1\n",
    "\"\"\"\n",
    "\n",
    "from pydrake.solvers import IpoptSolver\n",
    "\n",
    "prog = MathematicalProgram()\n",
    "x = prog.NewContinuousVariables(2)\n",
    "prog.AddConstraint(x[0] + x[1] == 1)\n",
    "prog.AddConstraint(0 <= x[1])\n",
    "prog.AddConstraint(x[1] <= 1)\n",
    "prog.AddCost(x[0])\n",
    "\n",
    "solver = IpoptSolver()\n",
    "\n",
    "# 起始值设为 [1, 1], 第三个参数是 IpoptSolver 的选项\n",
    "result = solver.Solve(prog, np.array([1, 1]), None)\n",
    "\n",
    "print(result.get_solution_result())\n",
    "print(\"x* = \", result.GetSolution(x))\n",
    "print(\"Solver is \", result.get_solver_id().name())\n",
    "print(\"Ipopt solver status: \", result.get_solver_details().status,\n",
    "      \", meaning \", result.get_solver_details().ConvertStatusToString())"
   ]
  },
  {
   "cell_type": "code",
   "execution_count": null,
   "metadata": {},
   "outputs": [],
   "source": [
    "from pydrake.solvers import MakeSolver\n",
    "solver = MakeSolver(IpoptSolver().solver_id())\n",
    "result = solver.Solve(prog)\n",
    "print(result.get_solution_result())\n",
    "print(\"x* = \", result.GetSolution(x))"
   ]
  },
  {
   "attachments": {},
   "cell_type": "markdown",
   "metadata": {},
   "source": [
    "每个求解器都记录了自身的详细信息. 对于 `result.get_solver_details()` 的返回参数中存储的内容, 应该用 `FooSolverDetails` 类. 例如, 如果知道调用了 IPOPT, 那么参考 `IpoptSolverDetails` 类；如果是 OSQP 求解器, 就参考 `OsqpSolverDetails`. "
   ]
  },
  {
   "cell_type": "code",
   "execution_count": null,
   "metadata": {},
   "outputs": [],
   "source": [
    "print(\"Ipopt solver status: \", result.get_solver_details().status,\n",
    "      \", meaning \", result.get_solver_details().ConvertStatusToString())"
   ]
  },
  {
   "attachments": {},
   "cell_type": "markdown",
   "metadata": {},
   "source": [
    "## 优化问题的初始解\n",
    "\n",
    "一些优化问题, 如非线性优化, 需要初始解. 其他类型的问题, 如二次规划、混合整数优化等, 如果提供良好的初始解, 可以更快地求解问题. Solve 函数中可以把初始解作为输入参数, 否则 Drake 将使用零值向量作为初始解. 比如下面这个问题初始解问题的结果影响很大, 如果没有用户提供的初始解, 求解器可能无法找到最优解. 更多初始解, 参考 nonlinear_program.ipynb"
   ]
  },
  {
   "cell_type": "code",
   "execution_count": null,
   "metadata": {},
   "outputs": [],
   "source": [
    "from pydrake.solvers import IpoptSolver\n",
    "prog = MathematicalProgram()\n",
    "x = prog.NewContinuousVariables(2)\n",
    "prog.AddConstraint(x[0]**2 + x[1]**2 == 100.)\n",
    "prog.AddCost(x[0]**2-x[1]**2)\n",
    "solver = IpoptSolver()\n",
    "# The user doesn't provide an initial guess.\n",
    "result = solver.Solve(prog, None, None)\n",
    "print(f\"Without a good initial guess, the result is {result.is_success()}\")\n",
    "print(f\"solution {result.GetSolution(x)}\")\n",
    "# Pass an initial guess\n",
    "result = solver.Solve(prog, [-5., 0.], None)\n",
    "print(f\"With a good initial guess, the result is {result.is_success()}\")\n",
    "print(f\"solution {result.GetSolution(x)}\")"
   ]
  },
  {
   "attachments": {},
   "cell_type": "markdown",
   "metadata": {},
   "source": [
    "# 回调函数"
   ]
  },
  {
   "cell_type": "code",
   "execution_count": null,
   "metadata": {},
   "outputs": [],
   "source": [
    "fig = plt.figure()\n",
    "curve_x = np.linspace(1, 10, 100)\n",
    "ax = plt.gca()\n",
    "ax.plot(curve_x, 9./curve_x)\n",
    "ax.plot(-curve_x, -9./curve_x)\n",
    "ax.plot(0, 0, 'o')\n",
    "x_init = [4., 5.]\n",
    "ax.plot(x_init[0], x_init[1], 'x', color='red')\n",
    "\n",
    "def update(x):\n",
    "    ax.plot(x[0], x[1], 'x', color='red')\n",
    "    \n",
    "prog = MathematicalProgram()\n",
    "x = prog.NewContinuousVariables(2)\n",
    "prog.AddConstraint(x[0] * x[1] == 9)\n",
    "prog.AddCost(x[0]**2 + x[1]**2)\n",
    "prog.AddVisualizationCallback(update, x)\n",
    "result = Solve(prog, x_init)\n",
    "print(f\"Success? {result.is_success()}\")\n",
    "print(f\"solution {result.GetSolution(x)}\")"
   ]
  }
 ],
 "metadata": {
  "kernelspec": {
   "display_name": "robot",
   "language": "python",
   "name": "python3"
  },
  "language_info": {
   "codemirror_mode": {
    "name": "ipython",
    "version": 3
   },
   "file_extension": ".py",
   "mimetype": "text/x-python",
   "name": "python",
   "nbconvert_exporter": "python",
   "pygments_lexer": "ipython3",
   "version": "3.8.10 (default, Nov 14 2022, 12:59:47) \n[GCC 9.4.0]"
  },
  "orig_nbformat": 4,
  "vscode": {
   "interpreter": {
    "hash": "163ba63cc8e6fa59655f510cd44ac1cc94d5f983d47df3b2a3d400a8e02e0b0b"
   }
  }
 },
 "nbformat": 4,
 "nbformat_minor": 2
}
